{
 "cells": [
  {
   "cell_type": "code",
   "execution_count": 1,
   "id": "b0a92bf3",
   "metadata": {},
   "outputs": [
    {
     "name": "stdout",
     "output_type": "stream",
     "text": [
      "Hello Python\n"
     ]
    }
   ],
   "source": [
    "#Q1\n",
    "print(\"Hello Python\")"
   ]
  },
  {
   "cell_type": "code",
   "execution_count": 2,
   "id": "45fd1314",
   "metadata": {},
   "outputs": [
    {
     "name": "stdout",
     "output_type": "stream",
     "text": [
      "enter the first number! 10\n",
      "enter the second number! 2\n",
      "the result of the addition operation is  12\n",
      "the result of the division operation is  5.0\n"
     ]
    }
   ],
   "source": [
    "#Q2\n",
    "#addition operation and division operation\n",
    "a = int(input(\"enter the first number! \"))\n",
    "b = int(input(\"enter the second number! \"))\n",
    "addition = a + b\n",
    "division = a/b\n",
    "print(\"the result of the addition operation is \",+ addition)\n",
    "print(\"the result of the division operation is \",+ division)\n"
   ]
  },
  {
   "cell_type": "code",
   "execution_count": 8,
   "id": "13a52c63",
   "metadata": {},
   "outputs": [
    {
     "name": "stdout",
     "output_type": "stream",
     "text": [
      "enter the first side 2\n",
      "enter the second side 3\n",
      "enter the third side 4\n",
      "the area of triangle is  2.9047375096555625\n"
     ]
    }
   ],
   "source": [
    "#Q3\n",
    "# to find the area of triangle\n",
    "a = int(input(\"enter the first side \"))\n",
    "b = int(input(\"enter the second side \"))\n",
    "c = int(input(\"enter the third side \"))\n",
    "x = (a+b+c)/2\n",
    "area = (x*(x-a)*(x-b)*(x-c)) ** 0.5\n",
    "print(\"the area of triangle is \",area)\n"
   ]
  },
  {
   "cell_type": "code",
   "execution_count": 9,
   "id": "21cf3a15",
   "metadata": {},
   "outputs": [
    {
     "name": "stdout",
     "output_type": "stream",
     "text": [
      "enter the first number 15\n",
      "enter the second number 30\n",
      "30 is the value of a after swapping\n",
      "15 is the value of b after swapping\n"
     ]
    }
   ],
   "source": [
    "#Q4\n",
    "#swapping two variables\n",
    "a = int(input(\"enter the first number \"))\n",
    "b = int(input(\"enter the second number \"))\n",
    "t = a\n",
    "a = b\n",
    "b = t\n",
    "print(\"{0} is the value of a after swapping\".format(a))\n",
    "print(\"{0} is the value of b after swapping\".format(b))"
   ]
  },
  {
   "cell_type": "code",
   "execution_count": 20,
   "id": "90752e6f",
   "metadata": {},
   "outputs": [
    {
     "name": "stdout",
     "output_type": "stream",
     "text": [
      "11\n"
     ]
    }
   ],
   "source": [
    "#Q5\n",
    "import random as rn\n",
    "print(rn.randint(0,15))"
   ]
  },
  {
   "cell_type": "code",
   "execution_count": null,
   "id": "3fe8b03b",
   "metadata": {},
   "outputs": [],
   "source": []
  }
 ],
 "metadata": {
  "kernelspec": {
   "display_name": "Python 3",
   "language": "python",
   "name": "python3"
  },
  "language_info": {
   "codemirror_mode": {
    "name": "ipython",
    "version": 3
   },
   "file_extension": ".py",
   "mimetype": "text/x-python",
   "name": "python",
   "nbconvert_exporter": "python",
   "pygments_lexer": "ipython3",
   "version": "3.8.8"
  }
 },
 "nbformat": 4,
 "nbformat_minor": 5
}
